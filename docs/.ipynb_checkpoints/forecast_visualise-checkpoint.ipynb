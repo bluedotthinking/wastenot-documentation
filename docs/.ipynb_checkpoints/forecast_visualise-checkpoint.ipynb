{
 "cells": [
  {
   "cell_type": "code",
   "execution_count": 13,
   "metadata": {},
   "outputs": [
    {
     "data": {
      "image/png": "[encoded data removed]",
      "text/plain": [
       "<Figure size 432x288 with 1 Axes>"
      ]
     },
     "metadata": {
      "needs_background": "light"
     },
     "output_type": "display_data"
    }
   ],
   "source": [
    "import requests\n",
    "requests.packages.urllib3.disable_warnings() \n",
    "import json\n",
    "import pandas as pd\n",
    "\n",
    "infile = '/Users/alvin/Documents/bdt_example_input.csv'\n",
    "\n",
    "input_df = pd.read_csv(infile)\n",
    "\n",
    "input_df[-180:-120].plot()\n",
    "\n",
    "input_dict = {'timestamp':list(input_df[-180:-120]['timestamp'].values),\n",
    "              'demand':[int(x) for x in input_df[-180:-120]['demand_units'].values],\n",
    "              \"cost\": 1, \"sale_price\": 5, \n",
    "              \"shelf_life_seconds\": 172800.0, \n",
    "              \"opt_param\": \"revenue\",\n",
    "              \"delivery_dayofweek\": [0,1,2,3,4,5,6],\n",
    "              \"forecast_periods_ahead\":7,\n",
    "              }\n",
    "\n",
    "r = json.dumps(input_dict)\n",
    "loaded_r = json.loads(r)"
   ]
  },
  {
   "cell_type": "code",
   "execution_count": 14,
   "metadata": {},
   "outputs": [],
   "source": [
    "\n",
    "# url = \"http://0.0.0.0:8000/forecast\"\n",
    "url = \"https://api.bluedotthinking.com/forecast\"\n",
    "access_token = 'EM_qxgqVCQ5cVD3d_Ly84Q'\n",
    "payload=r\n",
    "\n",
    "# payload=\"{\\\"timestamp\\\": [\\\"2017-05-24T00:00:00\\\", \\\"2017-05-25T00:00:00\\\", \\\"2017-05-26T00:00:00\\\", \\\"2017-05-27T00:00:00\\\", \\\"2017-05-28T00:00:00\\\", \\\"2017-05-29T00:00:00\\\", \\\"2017-05-30T00:00:00\\\", \\\"2017-05-31T00:00:00\\\", \\\"2017-06-01T00:00:00\\\", \\\"2017-06-02T00:00:00\\\", \\\"2017-06-03T00:00:00\\\", \\\"2017-06-04T00:00:00\\\", \\\"2017-06-05T00:00:00\\\", \\\"2017-06-06T00:00:00\\\", \\\"2017-06-07T00:00:00\\\", \\\"2017-06-08T00:00:00\\\", \\\"2017-06-09T00:00:00\\\", \\\"2017-06-10T00:00:00\\\", \\\"2017-06-11T00:00:00\\\", \\\"2017-06-12T00:00:00\\\", \\\"2017-06-13T00:00:00\\\", \\\"2017-06-14T00:00:00\\\", \\\"2017-06-15T00:00:00\\\", \\\"2017-06-16T00:00:00\\\", \\\"2017-06-17T00:00:00\\\", \\\"2017-06-18T00:00:00\\\", \\\"2017-06-19T00:00:00\\\", \\\"2017-06-20T00:00:00\\\", \\\"2017-06-21T00:00:00\\\", \\\"2017-06-22T00:00:00\\\"], \\n\\\"demand\\\": [559, 1407, 1727, 930, 642, 1135, 527, 1084, 1132, 1687, 978, 695, 769, 748, 1007, 1187, 1667, 1407, 774, 622, 492, 940, 1083, 1720, 918, 1069, 780, 1282, 918, 1511],\\n\\t\\\"cost\\\": 1, \\\"sale_price\\\": 5, \\n\\t\\\"shelf_life_seconds\\\": 172800.0, \\n\\t\\\"opt_param\\\": \\\"revenue\\\",\\n\\t\\\"delivery_dayofweek\\\": [0,1,2,3,4,5,6],\\n\\t\\\"forecast_periods_ahead\\\":7\\n\\t}\"\n",
    "headers = {\n",
    "    'Content-Type': 'application/json',\n",
    "    'access_token': access_token\n",
    "}\n",
    "\n",
    "response = requests.request(\"POST\", url, headers=headers, data=payload, verify=False)\n"
   ]
  },
  {
   "cell_type": "code",
   "execution_count": 15,
   "metadata": {},
   "outputs": [],
   "source": [
    "json_data = json.loads(response.text)"
   ]
  },
  {
   "cell_type": "code",
   "execution_count": 16,
   "metadata": {},
   "outputs": [],
   "source": [
    "delivery_df = pd.DataFrame(data={'timestamp':json_data['delivery_timestamp'],\n",
    "                                 'delivered_units':json_data['delivery_units']\n",
    "                                })\n",
    "\n",
    "forecast_df = pd.DataFrame(data={'timestamp': json_data['forecast_timestamp'],\n",
    "                                 'predicted_demand_units': json_data['predicted_demand_units'],\n",
    "                                 'optimised_demand_units': json_data['optimised_demand_units'],\n",
    "                                })"
   ]
  },
  {
   "cell_type": "code",
   "execution_count": 17,
   "metadata": {},
   "outputs": [
    {
     "data": {
      "text/html": [
       "<div>\n",
       "<style scoped>\n",
       "    .dataframe tbody tr th:only-of-type {\n",
       "        vertical-align: middle;\n",
       "    }\n",
       "\n",
       "    .dataframe tbody tr th {\n",
       "        vertical-align: top;\n",
       "    }\n",
       "\n",
       "    .dataframe thead th {\n",
       "        text-align: right;\n",
       "    }\n",
       "</style>\n",
       "<table border=\"1\" class=\"dataframe\">\n",
       "  <thead>\n",
       "    <tr style=\"text-align: right;\">\n",
       "      <th></th>\n",
       "      <th>timestamp</th>\n",
       "      <th>predicted_demand_units</th>\n",
       "      <th>optimised_demand_units</th>\n",
       "    </tr>\n",
       "  </thead>\n",
       "  <tbody>\n",
       "    <tr>\n",
       "      <th>0</th>\n",
       "      <td>2018-04-13</td>\n",
       "      <td>1635.0</td>\n",
       "      <td>1739.0</td>\n",
       "    </tr>\n",
       "    <tr>\n",
       "      <th>1</th>\n",
       "      <td>2018-04-14</td>\n",
       "      <td>1261.0</td>\n",
       "      <td>1341.0</td>\n",
       "    </tr>\n",
       "    <tr>\n",
       "      <th>2</th>\n",
       "      <td>2018-04-15</td>\n",
       "      <td>927.0</td>\n",
       "      <td>987.0</td>\n",
       "    </tr>\n",
       "    <tr>\n",
       "      <th>3</th>\n",
       "      <td>2018-04-16</td>\n",
       "      <td>1083.0</td>\n",
       "      <td>1152.0</td>\n",
       "    </tr>\n",
       "    <tr>\n",
       "      <th>4</th>\n",
       "      <td>2018-04-17</td>\n",
       "      <td>1151.0</td>\n",
       "      <td>1224.0</td>\n",
       "    </tr>\n",
       "    <tr>\n",
       "      <th>5</th>\n",
       "      <td>2018-04-18</td>\n",
       "      <td>1343.0</td>\n",
       "      <td>1428.0</td>\n",
       "    </tr>\n",
       "    <tr>\n",
       "      <th>6</th>\n",
       "      <td>2018-04-19</td>\n",
       "      <td>1342.0</td>\n",
       "      <td>1428.0</td>\n",
       "    </tr>\n",
       "  </tbody>\n",
       "</table>\n",
       "</div>"
      ],
      "text/plain": [
       "    timestamp  predicted_demand_units  optimised_demand_units\n",
       "0  2018-04-13                  1635.0                  1739.0\n",
       "1  2018-04-14                  1261.0                  1341.0\n",
       "2  2018-04-15                   927.0                   987.0\n",
       "3  2018-04-16                  1083.0                  1152.0\n",
       "4  2018-04-17                  1151.0                  1224.0\n",
       "5  2018-04-18                  1343.0                  1428.0\n",
       "6  2018-04-19                  1342.0                  1428.0"
      ]
     },
     "execution_count": 17,
     "metadata": {},
     "output_type": "execute_result"
    }
   ],
   "source": [
    "forecast_df"
   ]
  },
  {
   "cell_type": "code",
   "execution_count": 18,
   "metadata": {},
   "outputs": [
    {
     "data": {
      "text/html": [
       "<div>\n",
       "<style scoped>\n",
       "    .dataframe tbody tr th:only-of-type {\n",
       "        vertical-align: middle;\n",
       "    }\n",
       "\n",
       "    .dataframe tbody tr th {\n",
       "        vertical-align: top;\n",
       "    }\n",
       "\n",
       "    .dataframe thead th {\n",
       "        text-align: right;\n",
       "    }\n",
       "</style>\n",
       "<table border=\"1\" class=\"dataframe\">\n",
       "  <thead>\n",
       "    <tr style=\"text-align: right;\">\n",
       "      <th></th>\n",
       "      <th>timestamp</th>\n",
       "      <th>delivered_units</th>\n",
       "    </tr>\n",
       "  </thead>\n",
       "  <tbody>\n",
       "    <tr>\n",
       "      <th>0</th>\n",
       "      <td>2018-04-13</td>\n",
       "      <td>1739.0</td>\n",
       "    </tr>\n",
       "    <tr>\n",
       "      <th>1</th>\n",
       "      <td>2018-04-14</td>\n",
       "      <td>1341.0</td>\n",
       "    </tr>\n",
       "    <tr>\n",
       "      <th>2</th>\n",
       "      <td>2018-04-15</td>\n",
       "      <td>987.0</td>\n",
       "    </tr>\n",
       "    <tr>\n",
       "      <th>3</th>\n",
       "      <td>2018-04-16</td>\n",
       "      <td>1152.0</td>\n",
       "    </tr>\n",
       "    <tr>\n",
       "      <th>4</th>\n",
       "      <td>2018-04-17</td>\n",
       "      <td>1224.0</td>\n",
       "    </tr>\n",
       "    <tr>\n",
       "      <th>5</th>\n",
       "      <td>2018-04-18</td>\n",
       "      <td>1428.0</td>\n",
       "    </tr>\n",
       "    <tr>\n",
       "      <th>6</th>\n",
       "      <td>2018-04-19</td>\n",
       "      <td>1428.0</td>\n",
       "    </tr>\n",
       "  </tbody>\n",
       "</table>\n",
       "</div>"
      ],
      "text/plain": [
       "    timestamp  delivered_units\n",
       "0  2018-04-13           1739.0\n",
       "1  2018-04-14           1341.0\n",
       "2  2018-04-15            987.0\n",
       "3  2018-04-16           1152.0\n",
       "4  2018-04-17           1224.0\n",
       "5  2018-04-18           1428.0\n",
       "6  2018-04-19           1428.0"
      ]
     },
     "execution_count": 18,
     "metadata": {},
     "output_type": "execute_result"
    }
   ],
   "source": [
    "delivery_df"
   ]
  },
  {
   "cell_type": "code",
   "execution_count": 19,
   "metadata": {
    "scrolled": true
   },
   "outputs": [
    {
     "name": "stderr",
     "output_type": "stream",
     "text": [
      "/Users/alvin/.pyenv/versions/bdt-backend-env/lib/python3.8/site-packages/pandas/plotting/_matplotlib/core.py:1235: UserWarning: FixedFormatter should only be used together with FixedLocator\n",
      "  ax.set_xticklabels(xticklabels)\n"
     ]
    },
    {
     "data": {
      "text/plain": [
       "<AxesSubplot:xlabel='timestamp'>"
      ]
     },
     "execution_count": 19,
     "metadata": {},
     "output_type": "execute_result"
    },
    {
     "data": {
      "image/png": "[encoded data removed]",
      "text/plain": [
       "<Figure size 432x288 with 1 Axes>"
      ]
     },
     "metadata": {
      "needs_background": "light"
     },
     "output_type": "display_data"
    }
   ],
   "source": [
    "forecast_df.plot(x='timestamp',y=['predicted_demand_units','optimised_demand_units'])"
   ]
  },
  {
   "cell_type": "code",
   "execution_count": 20,
   "metadata": {},
   "outputs": [
    {
     "data": {
      "text/html": [
       "<div>\n",
       "<style scoped>\n",
       "    .dataframe tbody tr th:only-of-type {\n",
       "        vertical-align: middle;\n",
       "    }\n",
       "\n",
       "    .dataframe tbody tr th {\n",
       "        vertical-align: top;\n",
       "    }\n",
       "\n",
       "    .dataframe thead th {\n",
       "        text-align: right;\n",
       "    }\n",
       "</style>\n",
       "<table border=\"1\" class=\"dataframe\">\n",
       "  <thead>\n",
       "    <tr style=\"text-align: right;\">\n",
       "      <th></th>\n",
       "      <th>timestamp</th>\n",
       "      <th>predicted_demand_units</th>\n",
       "      <th>optimised_demand_units</th>\n",
       "    </tr>\n",
       "  </thead>\n",
       "  <tbody>\n",
       "    <tr>\n",
       "      <th>0</th>\n",
       "      <td>2018-04-13</td>\n",
       "      <td>1635.0</td>\n",
       "      <td>1739.0</td>\n",
       "    </tr>\n",
       "    <tr>\n",
       "      <th>1</th>\n",
       "      <td>2018-04-14</td>\n",
       "      <td>1261.0</td>\n",
       "      <td>1341.0</td>\n",
       "    </tr>\n",
       "    <tr>\n",
       "      <th>2</th>\n",
       "      <td>2018-04-15</td>\n",
       "      <td>927.0</td>\n",
       "      <td>987.0</td>\n",
       "    </tr>\n",
       "    <tr>\n",
       "      <th>3</th>\n",
       "      <td>2018-04-16</td>\n",
       "      <td>1083.0</td>\n",
       "      <td>1152.0</td>\n",
       "    </tr>\n",
       "    <tr>\n",
       "      <th>4</th>\n",
       "      <td>2018-04-17</td>\n",
       "      <td>1151.0</td>\n",
       "      <td>1224.0</td>\n",
       "    </tr>\n",
       "    <tr>\n",
       "      <th>5</th>\n",
       "      <td>2018-04-18</td>\n",
       "      <td>1343.0</td>\n",
       "      <td>1428.0</td>\n",
       "    </tr>\n",
       "    <tr>\n",
       "      <th>6</th>\n",
       "      <td>2018-04-19</td>\n",
       "      <td>1342.0</td>\n",
       "      <td>1428.0</td>\n",
       "    </tr>\n",
       "  </tbody>\n",
       "</table>\n",
       "</div>"
      ],
      "text/plain": [
       "    timestamp  predicted_demand_units  optimised_demand_units\n",
       "0  2018-04-13                  1635.0                  1739.0\n",
       "1  2018-04-14                  1261.0                  1341.0\n",
       "2  2018-04-15                   927.0                   987.0\n",
       "3  2018-04-16                  1083.0                  1152.0\n",
       "4  2018-04-17                  1151.0                  1224.0\n",
       "5  2018-04-18                  1343.0                  1428.0\n",
       "6  2018-04-19                  1342.0                  1428.0"
      ]
     },
     "execution_count": 20,
     "metadata": {},
     "output_type": "execute_result"
    }
   ],
   "source": [
    "forecast_df"
   ]
  },
  {
   "cell_type": "code",
   "execution_count": null,
   "metadata": {},
   "outputs": [],
   "source": []
  }
 ],
 "metadata": {
  "kernelspec": {
   "display_name": "Python 3",
   "language": "python",
   "name": "python3"
  },
  "language_info": {
   "codemirror_mode": {
    "name": "ipython",
    "version": 3
   },
   "file_extension": ".py",
   "mimetype": "text/x-python",
   "name": "python",
   "nbconvert_exporter": "python",
   "pygments_lexer": "ipython3",
   "version": "3.8.1"
  }
 },
 "nbformat": 4,
 "nbformat_minor": 4
}
